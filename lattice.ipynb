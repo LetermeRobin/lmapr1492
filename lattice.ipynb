{
 "cells": [
  {
   "cell_type": "code",
   "execution_count": 1,
   "metadata": {},
   "outputs": [],
   "source": [
    "from pymatgen.ext.matproj import MPRester\n",
    "from pymatgen.symmetry.analyzer import SpacegroupAnalyzer\n",
    "from pprint import pprint\n",
    "with MPRester(\"P2FTs1l6Xaon8AOI\") as m: \n",
    "    structure = m.get_structure_by_material_id(\"mp-28240\")"
   ]
  },
  {
   "cell_type": "code",
   "execution_count": 13,
   "metadata": {},
   "outputs": [
    {
     "name": "stdout",
     "output_type": "stream",
     "text": [
      "'les vecteurs de bases des réseaux direct'\n"
     ]
    },
    {
     "data": {
      "text/plain": [
       "Lattice\n",
       "    abc : 4.297124221088694 4.297124719891713 4.2971243553335325\n",
       " angles : 99.89756115118671 99.8975619249749 99.89756688703645\n",
       " volume : 75.32622145513308\n",
       "      A : 4.23963127 -0.0491896 -0.69884451\n",
       "      B : -0.8155579 4.16074062 -0.69884452\n",
       "      C : -0.04096477 -0.04918959 4.29664753"
      ]
     },
     "execution_count": 13,
     "metadata": {},
     "output_type": "execute_result"
    }
   ],
   "source": [
    "sga = SpacegroupAnalyzer(structure)\n",
    "pprint(\"les vecteurs de bases des réseaux direct\")\n",
    "structure.lattice"
   ]
  },
  {
   "cell_type": "code",
   "execution_count": 17,
   "metadata": {},
   "outputs": [
    {
     "name": "stdout",
     "output_type": "stream",
     "text": [
      "'les vecteurs de bases des réseaux réciproques'\n"
     ]
    },
    {
     "data": {
      "text/plain": [
       "Lattice\n",
       "    abc : 1.5173201421338989 1.5173199624304614 1.5173200682280665\n",
       " angles : 78.02031061499459 78.02030997869593 78.02030589831145\n",
       " volume : 3.2930128267504544\n",
       "      A : 1.4883262936655317 0.29468081163594306 0.017563500865103592\n",
       "      B : 0.020496760926603994 1.5170798510792105 0.01756350281051579\n",
       "      C : 0.2454082400536383 0.2946806781107421 1.4680593595320297"
      ]
     },
     "execution_count": 17,
     "metadata": {},
     "output_type": "execute_result"
    }
   ],
   "source": [
    "pprint('les vecteurs de bases des réseaux réciproques')\n",
    "structure.lattice.reciprocal_lattice"
   ]
  },
  {
   "cell_type": "code",
   "execution_count": 18,
   "metadata": {},
   "outputs": [
    {
     "name": "stdout",
     "output_type": "stream",
     "text": [
      "'Type de maille'\n"
     ]
    },
    {
     "data": {
      "text/plain": [
       "'rhombohedral'"
      ]
     },
     "execution_count": 18,
     "metadata": {},
     "output_type": "execute_result"
    }
   ],
   "source": [
    "pprint('Type de maille')\n",
    "sga.get_lattice_type()"
   ]
  },
  {
   "cell_type": "code",
   "execution_count": 15,
   "metadata": {},
   "outputs": [
    {
     "name": "stdout",
     "output_type": "stream",
     "text": [
      "'Système cristallin'\n"
     ]
    },
    {
     "data": {
      "text/plain": [
       "'trigonal'"
      ]
     },
     "execution_count": 15,
     "metadata": {},
     "output_type": "execute_result"
    }
   ],
   "source": [
    "pprint(\"Système cristallin\")\n",
    "sga.get_crystal_system()"
   ]
  },
  {
   "cell_type": "code",
   "execution_count": 14,
   "metadata": {},
   "outputs": [
    {
     "name": "stdout",
     "output_type": "stream",
     "text": [
      "'Groupe ponctuel'\n"
     ]
    },
    {
     "data": {
      "text/plain": [
       "'3m'"
      ]
     },
     "execution_count": 14,
     "metadata": {},
     "output_type": "execute_result"
    }
   ],
   "source": [
    "pprint(\"Groupe ponctuel\")\n",
    "sga.get_point_group_symbol()"
   ]
  },
  {
   "cell_type": "code",
   "execution_count": null,
   "metadata": {},
   "outputs": [],
   "source": []
  }
 ],
 "metadata": {
  "kernelspec": {
   "display_name": "Python 3",
   "language": "python",
   "name": "python3"
  },
  "language_info": {
   "codemirror_mode": {
    "name": "ipython",
    "version": 3
   },
   "file_extension": ".py",
   "mimetype": "text/x-python",
   "name": "python",
   "nbconvert_exporter": "python",
   "pygments_lexer": "ipython3",
   "version": "3.6.8"
  }
 },
 "nbformat": 4,
 "nbformat_minor": 2
}
